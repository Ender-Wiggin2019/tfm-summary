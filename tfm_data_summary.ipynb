{
 "cells": [
  {
   "cell_type": "code",
   "execution_count": null,
   "source": [
    "import pandas as pd\r\n",
    "import numpy as np\r\n",
    "import os\r\n",
    "import json\r\n",
    "# import dt\r\n",
    "import re"
   ],
   "outputs": [],
   "metadata": {}
  },
  {
   "cell_type": "markdown",
   "source": [
    "# GM_RESULT"
   ],
   "metadata": {}
  },
  {
   "cell_type": "code",
   "execution_count": null,
   "source": [
    "res = pd.read_csv(\"game_results.csv\")\r\n",
    "res.head()\r\n"
   ],
   "outputs": [],
   "metadata": {}
  },
  {
   "cell_type": "code",
   "execution_count": null,
   "source": [
    "# preprocessing\r\n",
    "res[\"scores\"] = res[\"scores\"].astype(object)\r\n",
    "res[\"game_options\"] = res[\"game_options\"].astype(object)\r\n",
    "res[\"createtime\"] = pd.to_datetime(res[\"createtime\"], dayfirst=True)\r\n"
   ],
   "outputs": [],
   "metadata": {}
  },
  {
   "cell_type": "code",
   "execution_count": null,
   "source": [
    "# scores proprocessing\r\n",
    "store = []\r\n",
    "for i in res[\"scores\"]:\r\n",
    "    tmp = json.loads(i)\r\n",
    "    for i in range(len(tmp)):\r\n",
    "        tmp[i]['order'] = i+1\r\n",
    "    tmp = sorted(tmp,key = lambda e:e.__getitem__('playerScore'),reverse = True) # can optimize to obtain knowledge of order\r\n",
    "    for i in range(len(tmp)):\r\n",
    "        tmp[i]['position'] = i+1\r\n",
    "    store.append(tmp)\r\n",
    "df1 = pd.DataFrame(store)\r\n",
    "df1.columns = [\"player1\",\"player2\",\"player3\",\"player4\",\"player5\",\"player6\"]"
   ],
   "outputs": [],
   "metadata": {}
  },
  {
   "cell_type": "code",
   "execution_count": null,
   "source": [
    "options = []\r\n",
    "for i in res[\"game_options\"]:\r\n",
    "    if not pd.isna(i):\r\n",
    "        options.append(json.loads(i))\r\n",
    "    else: options.append({})\r\n",
    "df2 = pd.DataFrame(options)"
   ],
   "outputs": [],
   "metadata": {}
  },
  {
   "cell_type": "code",
   "execution_count": null,
   "source": [
    "# df2.head()"
   ],
   "outputs": [],
   "metadata": {}
  },
  {
   "cell_type": "code",
   "execution_count": null,
   "source": [
    "# df3 = pd.concat([res, df1, df2],axis=1)\r\n",
    "# df4= df3.drop(columns=['seed_game_id','game_options','scores','draftVariant','corporateEra','solarPhaseOption','undoOption','fastModeOption','includeVenusMA','soloTR','removeNegativeGlobalEventsOption','politicalAgendasExtension','requiresMoonTrackCompletion','showTimers','politicalAgendasExtensionToggle','aresHazards','requiresVenusTrackCompletion','politicalAgendasExtensionToggle','solarPhaseOption'])"
   ],
   "outputs": [],
   "metadata": {}
  },
  {
   "cell_type": "code",
   "execution_count": null,
   "source": [
    "df3 = pd.concat([res, df1, df2],axis=1)\r\n",
    "df4= df3.drop(columns=['seed_game_id','game_options','scores','draftVariant','corporateEra','solarPhaseOption','undoOption','fastModeOption','includeVenusMA','soloTR','removeNegativeGlobalEventsOption','politicalAgendasExtension','requiresMoonTrackCompletion','showTimers'])"
   ],
   "outputs": [],
   "metadata": {}
  },
  {
   "cell_type": "code",
   "execution_count": null,
   "source": [
    "df4.columns\r\n",
    "df4.to_csv('./prprocessing_data', index = False)"
   ],
   "outputs": [],
   "metadata": {}
  },
  {
   "cell_type": "code",
   "execution_count": null,
   "source": [
    "def getPlayer(df,num): # get all players name\r\n",
    "    player_df = pd.DataFrame(columns=['player','count'])\r\n",
    "    for index,i in df.iterrows():\r\n",
    "        if i['players'] == num: #start\r\n",
    "            for column in ['player1','player2','player3','player4']:\r\n",
    "                player_df.loc[player_df.shape[0]] = [i[column]['player'].lower().strip(),1]\r\n",
    "    ff1 = player_df.groupby(player_df[\"player\"]).count()\r\n",
    "    ff1[\"player_list\"] = ff1.values.tolist()\r\n",
    "    return ff1\r\n"
   ],
   "outputs": [],
   "metadata": {}
  },
  {
   "cell_type": "code",
   "execution_count": null,
   "source": [
    "player_count = getPlayer(df4,4)\r\n",
    "player_count.to_csv('./pl_count.csv', index = True)"
   ],
   "outputs": [],
   "metadata": {}
  },
  {
   "cell_type": "code",
   "execution_count": null,
   "source": [
    "def playerCount(df,num,player): #TODO,模糊查找\r\n",
    "    player_df = pd.DataFrame(columns=['id','corporation1', 'rank', 'order','score', 'time', 'generations','corporation2'])\r\n",
    "    for index,i in df.iterrows():\r\n",
    "        if i['players'] == num: #start\r\n",
    "            for column in ['player1','player2','player3','player4']:\r\n",
    "                if i[column]['player'].lower() in [p.lower() for p in player] and ('corporation2' not in i[column].keys()):\r\n",
    "                    player_df.loc[player_df.shape[0]] = [i[column]['player'].lower(),i[column]['corporation'],i[column]['position'],i[column]['order'],i[column]['playerScore'],i['createtime'],i['generations'],'nan']\r\n",
    "                elif i[column]['player'].lower() in [p.lower() for p in player] and ('corporation2' in i[column].keys()):\r\n",
    "                    player_df.loc[player_df.shape[0]] = [i[column]['player'].lower(),i[column]['corporation'],i[column]['position'],i[column]['order'],i[column]['playerScore'],i['createtime'],i['generations'],i[column]['corporation2']]\r\n",
    "    return player_df"
   ],
   "outputs": [],
   "metadata": {}
  },
  {
   "cell_type": "code",
   "execution_count": null,
   "source": [
    "df_player = playerCount(df4,4,['梦韩'])\r\n",
    "df_player.tail()"
   ],
   "outputs": [],
   "metadata": {}
  },
  {
   "cell_type": "code",
   "execution_count": null,
   "source": [
    "#time series\r\n",
    "def time_series(df):\r\n",
    "    ff1 = df[(df[\"players\"]==4) & (df[\"generations\"]<=9)]\r\n",
    "    ff1.to_csv('./time_original', index = True)\r\n",
    "    ff2 = ff1.groupby(ff1['createtime'].dt.date).mean()\r\n",
    "    return ff2\r\n"
   ],
   "outputs": [],
   "metadata": {}
  },
  {
   "cell_type": "code",
   "execution_count": null,
   "source": [
    "# # 时间绘图\r\n",
    "# df5 = time_series(df4)\r\n",
    "# df5.head(20)\r\n",
    "# df5 = df5.drop(columns=[\"players\",\"initialDraftRounds\"])\r\n",
    "# df5.to_csv('./time_series.csv', index = True)\r\n",
    "# # df5.plot()"
   ],
   "outputs": [],
   "metadata": {}
  },
  {
   "cell_type": "markdown",
   "source": [
    "# US_RESULT"
   ],
   "metadata": {}
  },
  {
   "cell_type": "code",
   "execution_count": null,
   "source": [
    "# usage: demostrate user's creating time, like \"you are the NO.1132 player\"\r\n",
    "user = pd.read_csv(\"users.csv\")\r\n",
    "user = user.drop(columns=\"prop\")\r\n",
    "user[\"name\"] = user[\"name\"].str.lower()\r\n",
    "user[\"createtime\"] = pd.to_datetime(user[\"createtime\"], dayfirst=True)\r\n",
    "user = user.sort_values(by=[\"createtime\"])\r\n",
    "user = user.reset_index(drop=True)\r\n",
    "user[\"createtime\"] = user.index+1\r\n",
    "user.to_csv('./user_pre.csv', index = False)"
   ],
   "outputs": [],
   "metadata": {}
  },
  {
   "cell_type": "code",
   "execution_count": null,
   "source": [
    "# left join and mapping\r\n",
    "user_player = user.merge(player_count,how=\"left\",left_on=\"name\",right_on=\"player\")\r\n",
    "user_player = user_player.sort_values(by=[\"player_list\"],na_position=\"first\")\r\n",
    "user_player.to_csv('./user_player_mapping1.csv', index = False)\r\n"
   ],
   "outputs": [],
   "metadata": {}
  },
  {
   "cell_type": "code",
   "execution_count": null,
   "source": [
    "user_player = pd.read_csv('./user_player_mapping.csv')\r\n",
    "user_player = user_player.drop(columns=\"player_list\")\r\n",
    "user_player = user_player.set_index(\"name\")\r\n",
    "user_player.tail()"
   ],
   "outputs": [],
   "metadata": {}
  },
  {
   "cell_type": "code",
   "execution_count": null,
   "source": [
    "# detect missing user name\r\n",
    "player_user = player_count.merge(user,how=\"left\",left_on=\"player\",right_on=\"name\")\r\n",
    "player_user = player_user.sort_values(by=[\"count\"],ascending=False, na_position=\"first\")\r\n",
    "player_user = player_user[player_user[\"name\"].isna()]\r\n",
    "player_user.to_csv('./player_user_mapping.csv', index = False)"
   ],
   "outputs": [],
   "metadata": {}
  },
  {
   "cell_type": "markdown",
   "source": [
    "# CUSTOMIZATION"
   ],
   "metadata": {}
  },
  {
   "cell_type": "code",
   "execution_count": null,
   "source": [
    "player_mapping_df = pd.read_csv('player_mapping.csv')\r\n",
    "player_mapping_df = player_mapping_df.set_index(\"playername\")"
   ],
   "outputs": [],
   "metadata": {}
  },
  {
   "cell_type": "code",
   "execution_count": null,
   "source": [
    "def playerGroup(df,num,player,map_df): #TODO,模糊查找\r\n",
    "    player_df = pd.DataFrame(columns=['id','corporation1', 'rank', 'order','score', 'time', 'generations','corporation2'])\r\n",
    "    for index,i in df.iterrows():\r\n",
    "        try:\r\n",
    "            if i['players'] == num: #start\r\n",
    "                for column in ['player1','player2','player3','player4']:\r\n",
    "                    if (i[column]['player'].lower() == player.lower() or i[column]['player'].lower() in map_df.index) and ('corporation2' not in i[column].keys()):\r\n",
    "                        if map_df.loc[i[column]['player'].lower(),'username']== player.lower():\r\n",
    "                            player_df.loc[player_df.shape[0]] = [i[column]['player'].lower(),i[column]['corporation'],i[column]['position'],i[column]['order'],i[column]['playerScore'],i['createtime'],i['generations'],'nan']\r\n",
    "                    elif (i[column]['player'].lower() == player.lower() or i[column]['player'].lower() in map_df.index) and ('corporation2' in i[column].keys()):\r\n",
    "                        if map_df.loc[i[column]['player'].lower(),'username']== player.lower():\r\n",
    "                            player_df.loc[player_df.shape[0]] = [i[column]['player'].lower(),i[column]['corporation'],i[column]['position'],i[column]['order'],i[column]['playerScore'],i['createtime'],i['generations'],i[column]['corporation2']]\r\n",
    "        except: print(player)\r\n",
    "    return player_df"
   ],
   "outputs": [],
   "metadata": {}
  },
  {
   "cell_type": "code",
   "execution_count": null,
   "source": [
    "user_df = playerGroup(df4,4,'梦韩',player_mapping_df)\r\n",
    "user_df.tail()"
   ],
   "outputs": [],
   "metadata": {}
  },
  {
   "cell_type": "code",
   "execution_count": null,
   "source": [
    "group_by_corp = user_df.groupby(['corporation1']).agg({'id':'count','rank':'mean','score':'mean','generations':'mean'}).sort_values(by=['id'], ascending=False)\r\n",
    "\r\n",
    "user_df[\"hour\"] = user_df.time.apply(lambda x: x.hour)\r\n",
    "group_by_hour = user_df.groupby(['hour']).agg({'id':'count','rank':'mean','score':'mean','generations':'mean'}).sort_values(by=['id'], ascending=False)\r\n",
    "group_by_hour.reset_index().loc[0,'hour']\r\n",
    "highest = user_df.sort_values(by=[\"score\",\"generations\"],ascending=[False,True])\r\n",
    "# highest.head()\r\n"
   ],
   "outputs": [],
   "metadata": {}
  },
  {
   "cell_type": "code",
   "execution_count": null,
   "source": [
    "user_df.to_csv('钝钝.csv',index=False)"
   ],
   "outputs": [],
   "metadata": {}
  },
  {
   "cell_type": "code",
   "execution_count": null,
   "source": [
    "# test\r\n",
    "firstgame = user_df.loc[0,[\"corporation1\",\"rank\",\"time\"]]\r\n",
    "user_df[\"date\"] = user_df[\"time\"].dt.normalize()\r\n",
    "group_by_date = user_df.groupby(['date']).agg({'id':'count'}).sort_values(by=['id'], ascending=False)\r\n",
    "group_by_date = group_by_date[group_by_date[\"id\"]<=7]\r\n",
    "# group_by_date.reset_index().head()"
   ],
   "outputs": [],
   "metadata": {}
  },
  {
   "cell_type": "code",
   "execution_count": null,
   "source": [
    "def user_summary(ff1,ff2,user): ## ff1=df4\r\n",
    "    try:\r\n",
    "        user_df = playerGroup(ff1,4,user,player_mapping_df)\r\n",
    "    except:\r\n",
    "        print(user)\r\n",
    "        return 0\r\n",
    "    # measure 0: check whether the account is uesable\r\n",
    "    if user_df.empty: return [''for i in range(18)]\r\n",
    "    if pd.isna(ff2.loc[user,\"createtime\"].astype(\"int\")): return [''for i in range(18)]\r\n",
    "    # measure 1: account create date\r\n",
    "    createtime = ff2.loc[user,\"createtime\"]\r\n",
    "    # measure 1.5: first game\r\n",
    "    firstgame = user_df.loc[0,[\"corporation1\",\"rank\",\"time\"]]\r\n",
    "    # measure 1.6 spend how many days, defeat ?% users\r\n",
    "    # measure 2: total games, favourite corp\r\n",
    "    group_by_corp = user_df.groupby(['corporation1']).agg({'id':'count','rank':'mean','score':'mean','generations':'mean'}).sort_values(by=['id'], ascending=False)\r\n",
    "    group_by_corp = group_by_corp.reset_index()\r\n",
    "    favorite_corp = group_by_corp.loc[0,'corporation1']\r\n",
    "    favourite_corp_rank = group_by_corp.loc[0,'rank']\r\n",
    "    favorite_corp_times = group_by_corp.loc[0,'id']\r\n",
    "    games = user_df.shape[0]\r\n",
    "    # measure 3: most frequently play time period\r\n",
    "    user_df[\"hour\"] = user_df.time.apply(lambda x: x.hour)\r\n",
    "    group_by_hour = user_df.groupby(['hour']).agg({'id':'count','rank':'mean','score':'mean','generations':'mean'}).sort_values(by=['id'], ascending=False)\r\n",
    "    most_freq_time = group_by_hour.reset_index().loc[0,'hour']\r\n",
    "    # measure 4: avg score and gen, i.e. defeat 96% players (display this if the ratio > 50) TODO\r\n",
    "    avg_rank = user_df[\"rank\"].mean()\r\n",
    "    avg_gens = user_df[\"generations\"].mean()\r\n",
    "    # measure 5: highest score, with which corp\r\n",
    "    # highest = pd.to_numeric(user_df[\"score\"]).idxmax()\r\n",
    "    highest = user_df.sort_values(by=[\"score\",\"generations\"],ascending=[False,True])\r\n",
    "    highest_corp = highest.iloc[0,1]\r\n",
    "    highest_score = highest.iloc[0,4]\r\n",
    "    highest_gens = highest.iloc[0,6]\r\n",
    "    if (highest.iloc[0,7] != 'nan' and highest.iloc[0,7] != ''):\r\n",
    "        highest_corp = highest_corp+' 和 '+highest.iloc[0,7]\r\n",
    "    # measure 6: group by day. i.e 2021-06-10 seems to be a special day for u, u played 6 games by a row\r\n",
    "    user_df[\"date\"] = user_df[\"time\"].dt.normalize()\r\n",
    "    group_by_date = user_df.groupby(['date']).agg({'id':'count'}).sort_values(by=['id'], ascending=False)\r\n",
    "    group_by_date = group_by_date[group_by_date[\"id\"]<=7]\r\n",
    "    played_day = group_by_date.shape[0]\r\n",
    "    group_by_date = group_by_date.reset_index()\r\n",
    "    most_day = group_by_date.loc[0,[\"date\",\"id\"]]\r\n",
    "    # print([user, firstgame[0],firstgame[1],firstgame[2],createtime, games,favorite_corp,favorite_corp_times,most_freq_time,avg_rank,avg_gens, highest_corp, highest_score,highest_gens,played_day,most_day[0], most_day[1]])\r\n",
    "    return [user, firstgame[0],firstgame[1],firstgame[2],createtime, games,favorite_corp,favorite_corp_times,favourite_corp_rank,most_freq_time,avg_rank,avg_gens, highest_corp, highest_score,highest_gens,played_day,most_day[0], most_day[1]]"
   ],
   "outputs": [],
   "metadata": {}
  },
  {
   "cell_type": "code",
   "execution_count": null,
   "source": [
    "def measure_summary(ff1,ff2):\r\n",
    "    output_df = pd.DataFrame(columns=[\"user_id\",\"first_corp\",\"first_rank\",\"first_time\",\"create_no\",\"total_games\",\"favorite_corp\",\"fa_corp_times\",\"fa_corp_rank\",\"most_freq_play_time\",\"avg_rank\",\"avg_gens\",\"highest_corp\",\"highest_score\",\"highest_gens\",\"played_day\",\"most_date\",\"most_date_times\"])\r\n",
    "    for index,i in user_player.iterrows():\r\n",
    "        # print(index)\r\n",
    "        if (not pd.isnull(i[\"count\"])) and i[\"count\"]>=1 and ((\"tour\" in index) == False):\r\n",
    "            output_df.loc[output_df.shape[0]] = user_summary(ff1,ff2,index)\r\n",
    "    return output_df"
   ],
   "outputs": [],
   "metadata": {}
  },
  {
   "cell_type": "code",
   "execution_count": null,
   "source": [
    "# def measure_summary(ff1,ff2):\r\n",
    "#     output_df = pd.DataFrame(columns=[\"user_id\"])\r\n",
    "#     for index,i in user_player.iterrows():\r\n",
    "#         output_df.loc[output_df.shape[0]] = [i]\r\n",
    "#     return output_df\r\n",
    "# test = measure_summary(df4,user_player)\r\n",
    "# test = test.dropna()\r\n",
    "# test.to_csv(\"test.csv\")"
   ],
   "outputs": [],
   "metadata": {}
  },
  {
   "cell_type": "code",
   "execution_count": null,
   "source": [
    "output_df = measure_summary(df4,user_player)\r\n",
    "output_df = output_df.dropna()\r\n",
    "output_df.to_csv(\"measure_summary.csv\")\r\n",
    "output_df.head()"
   ],
   "outputs": [],
   "metadata": {}
  },
  {
   "cell_type": "code",
   "execution_count": null,
   "source": [
    "output_df = pd.read_csv(\"measure_summary.csv\")\r\n",
    "# preprocessing\r\n",
    "output_df = output_df[output_df[\"user_id\"].str.contains(\"tour-\")==False]\r\n",
    "# play times\r\n",
    "output_df = output_df.sort_values(by=\"total_games\",ascending=False)\r\n",
    "output_df['play_times_sort'] = range(1,len(output_df)+1)\r\n",
    "# gens\r\n",
    "output_df = output_df.sort_values(by=\"avg_gens\",ascending=False)\r\n",
    "output_df['gens_sort'] = range(1,len(output_df)+1)\r\n",
    "# terraform\r\n",
    "output_df = output_df.sort_values(by=\"avg_gens\")\r\n",
    "output_df['terra_sort'] = range(1,len(output_df)+1)\r\n",
    "# terraform\r\n",
    "output_df = output_df.sort_values(by=\"highest_score\",ascending=False)\r\n",
    "output_df['highest_sort'] = range(1,len(output_df)+1)\r\n",
    "# rank\r\n",
    "output_df[\"bayes_rank\"] = output_df.apply(lambda x:(x[\"total_games\"]*x[\"avg_rank\"]+10*2.8)/(x[\"total_games\"]+10),axis=1)\r\n",
    "output_df = output_df.sort_values(by=\"bayes_rank\")\r\n",
    "output_df['rank_sort'] = range(1,len(output_df)+1)\r\n",
    "# analyze corp ranking TODO: group by corp,ignore 'breakthrough', then find the index with the maximum values\r\n",
    "output_df['baye_avg'] = output_df.apply(lambda x:(x[\"fa_corp_times\"]*x[\"fa_corp_rank\"]+5*2.5)/(x[\"fa_corp_times\"]+5),axis=1)\r\n",
    "output_df['max_corp'] = output_df.groupby([\"favorite_corp\"],as_index=False)[\"baye_avg\"].transform(min)\r\n",
    "output_df['max_corp'] = np.where((output_df[\"max_corp\"]==output_df[\"baye_avg\"]) & (output_df[\"baye_avg\"] <= 2.5),1,0)\r\n",
    "# output_pivot = pd.pivot_table(output_df, index=[''])\r\n",
    "# output_df.sort_values(by=\"baye_avg\").groupby([\"favorite_corp\"],as_index=False).transform(lambda x: x in range(1,len(output_df)+1))\r\n",
    "\r\n",
    "\r\n",
    "output_df = output_df.sort_values(by=\"bayes_rank\")\r\n",
    "output_df.to_csv(\"measure_summary_sort.csv\")\r\n",
    "output_df.head()"
   ],
   "outputs": [],
   "metadata": {}
  },
  {
   "cell_type": "code",
   "execution_count": null,
   "source": [
    "# final json file\r\n",
    "final_df = pd.read_csv(\"measure_summary_sort.csv\")\r\n",
    "# entity modification\r\n",
    "final_df[[\"create_no\",\"played_day\",\"total_games\",\"fa_corp_times\",\"most_freq_play_time\",\"highest_score\",\"highest_gens\",\"most_date_times\"]] = final_df[[\"create_no\",\"played_day\",\"total_games\",\"fa_corp_times\",\"most_freq_play_time\",\"highest_score\",\"highest_gens\",\"most_date_times\"]].astype(np.int32)\r\n",
    "final_df[\"avg_rank\"] = final_df[\"avg_rank\"].round(1)\r\n",
    "final_df[\"avg_gens\"] = final_df[\"avg_gens\"].round(1)\r\n",
    "final_df[[\"create_time_text\",\"first_game_text\",\"total_game_text\",\"favorite_corp_text\",\"favorite_time_text\",\"avg_rank_text\",\"avg_gen_text\",\"best_score_text\",\"games_in_one_day_text\",\"achievements\"]] = final_df.apply(lambda x:('','','','','','','','','','',),axis=1,result_type='expand')\r\n",
    "# for loop\r\n",
    "for i,row in final_df.iterrows():\r\n",
    "    # 1, user_id, TODO make it to be index, create_no, create_time_text\r\n",
    "    if final_df.loc[i,\"create_no\"] <= 100: final_df.loc[i,\"create_time_text\"] = \"作为登陆火星的先行者，你们为火星的建设奠定了坚实的基础！\"\r\n",
    "    elif final_df.loc[i,\"create_no\"] <= 805: final_df.loc[i,\"create_time_text\"] = \"作为火星的第二批居民，你们牵引了无数小行星让火星不再孤寂寒冷。\"\r\n",
    "    else: final_df.loc[i,\"create_time_text\"] = \"作为火星的新兴势力，感谢你们为火星增添了几分绿意！\"\r\n",
    "\r\n",
    "    # 2, first_time, first_game_text\r\n",
    "    date_str = final_df.loc[i,\"first_time\"]\r\n",
    "    final_df.loc[i,\"first_time\"] = date_str[0:4]+'年'+date_str[5:7]+'月'+date_str[8:10]+'日'\r\n",
    "    if final_df.loc[i,\"first_rank\"].astype(np.int32) == 1: final_df.loc[i,\"first_game_text\"] = \"崭露头角，轻取桂冠\"\r\n",
    "    elif final_df.loc[i,\"first_rank\"].astype(np.int32) == 2: final_df.loc[i,\"first_game_text\"] = \"小试牛刀，施精布略\"\r\n",
    "    elif final_df.loc[i,\"first_rank\"].astype(np.int32) == 3: final_df.loc[i,\"first_game_text\"] = \"初出茅庐，志在千里\"\r\n",
    "    elif final_df.loc[i,\"first_rank\"].astype(np.int32) == 4: final_df.loc[i,\"first_game_text\"] = \"愈战愈勇，砥砺前行\"\r\n",
    "\r\n",
    "    # 3, played_day, total_games, total_game_text\r\n",
    "    if final_df.loc[i,\"total_games\"].astype(np.int32) <= 10: final_df.loc[i,\"total_game_text\"] = \"火星好寂寞，下次记得多陪陪人家~\"\r\n",
    "    elif final_df.loc[i,\"total_games\"].astype(np.int32) <= 60: final_df.loc[i,\"total_game_text\"] = \"虽然玩得不多，但是改造委员会看到了你的诚意！\"\r\n",
    "    elif final_df.loc[i,\"total_games\"].astype(np.int32) <= 120: final_df.loc[i,\"total_game_text\"] = \"改造委员会宣布你是火星年度劳模！\"\r\n",
    "    else: final_df.loc[i,\"total_game_text\"] = \"地球办公室向你颁发感动火星十大人物证书！\"\r\n",
    "\r\n",
    "    # 4, favorite_corp, fa_corp_times\r\n",
    "    if final_df.loc[i,\"fa_corp_times\"].astype(np.int32) >= 10: final_df.loc[i,\"favorite_corp_text\"] = \"日久生情，想必彼此之间已经有羁绊了吧！\"\r\n",
    "    else: final_df.loc[i,\"favorite_corp_text\"] = \"不要忘记和他一起度过的愉快生活哦~\"\r\n",
    "\r\n",
    "    # 5, most_freq_play_time, favorite_time_text\r\n",
    "    if final_df.loc[i,\"most_freq_play_time\"].astype(np.int32) <= 14 and final_df.loc[i,\"most_freq_play_time\"].astype(np.int32) >= 7: final_df.loc[i,\"favorite_time_text\"] = \"早起的火星人有牌抽！\"\r\n",
    "    elif final_df.loc[i,\"most_freq_play_time\"].astype(np.int32) <= 21 and final_df.loc[i,\"most_freq_play_time\"].astype(np.int32) > 14: final_df.loc[i,\"favorite_time_text\"] = \"真是元气满满的火星人呢\"\r\n",
    "    else: final_df.loc[i,\"favorite_time_text\"] = \"什么？还有不要睡觉的火星人？你是来自木星的吗？\"\r\n",
    "\r\n",
    "    # 6, avg_rank, avg_rank_text\r\n",
    "    if final_df.loc[i,\"avg_rank\"] <= 2: final_df.loc[i,\"avg_rank_text\"] = \"你是出色的技术流！世界政府需要你这样的人才！\"\r\n",
    "    elif final_df.loc[i,\"avg_rank\"] <= 3: final_df.loc[i,\"avg_rank_text\"] = \"运气总是起起落落落落落落，我懂你！\"\r\n",
    "    elif final_df.loc[i,\"avg_rank\"] <= 4: final_df.loc[i,\"avg_rank_text\"] = \"别灰心！4个人里面只有1个人垫底！\"\r\n",
    "\r\n",
    "    # 7, avg_gens, avg_gen_text\r\n",
    "    if final_df.loc[i,\"avg_gens\"] <= 7.2: final_df.loc[i,\"avg_gen_text\"] = \"你是纯纯粹粹的改造党，火卫二不在的第N天，想她\"\r\n",
    "    elif final_df.loc[i,\"avg_gens\"] <= 8: final_df.loc[i,\"avg_gen_text\"] = \"你改造拖拖两开花，进可过牌变魔术，退可标动打工人\"\r\n",
    "    else: final_df.loc[i,\"avg_gen_text\"] = \"你是如假包换的老拖拖，请问AI中心研究的反重力科技成果怎么样了？\"\r\n",
    "\r\n",
    "    # 8, highest_corp,highest_score,highest_gens\r\n",
    "    if final_df.loc[i,\"highest_sort\"].astype(np.int32) <= 50: final_df.loc[i,\"best_score_text\"] = \"火星吉尼斯纪录应该留下你的名字！\"\r\n",
    "    elif final_df.loc[i,\"highest_sort\"].astype(np.int32) <= 100: final_df.loc[i,\"best_score_text\"] = \"金星总督向你发来祝贺。\"\r\n",
    "    else: final_df.loc[i,\"best_score_text\"] = \"再接再厉！没事多去研究前哨所转转！\"\r\n",
    "\r\n",
    "    # 9 most_date,most_date_times\r\n",
    "    date_str = final_df.loc[i,\"first_time\"]\r\n",
    "    final_df.loc[i,\"most_date\"] = date_str[0:4]+'年'+date_str[5:7]+'月'+date_str[8:10]+'日'\r\n",
    "    if final_df.loc[i,\"most_date_times\"].astype(np.int32) <= 1: final_df.loc[i,\"games_in_one_day_text\"] = \"哦，原来最多也只是开了一局啊，那没事了。\"\r\n",
    "    elif final_df.loc[i,\"most_date_times\"].astype(np.int32) <= 3: final_df.loc[i,\"games_in_one_day_text\"] = \"时间管理大师非你莫属！\"\r\n",
    "    else: final_df.loc[i,\"games_in_one_day_text\"] = \"火星996说的就是你吧！\"\r\n",
    "\r\n",
    "    # achievements: play_times_sort,gens_sort,terra_sort,highest_sort,bayes_rank,rank_sort,baye_avg,max_corp\r\n",
    "    mapping = ['零','一','二','三','四','五','六','七','八','九','十']\r\n",
    "    operated_str = ''\r\n",
    "    if final_df.loc[i,\"play_times_sort\"] <= 10: operated_str = operated_str+(\"国服第\"+mapping[final_df.loc[i,\"play_times_sort\"]]+\"肝帝\\n\")\r\n",
    "    if final_df.loc[i,\"gens_sort\"] <= 10: operated_str = operated_str+(\"国服第\"+mapping[final_df.loc[i,\"gens_sort\"]]+\"拖拖党\\n\")\r\n",
    "    if final_df.loc[i,\"terra_sort\"] <= 10: operated_str = operated_str+(\"国服第\"+mapping[final_df.loc[i,\"terra_sort\"]]+\"改造党\\n\")\r\n",
    "    if final_df.loc[i,\"rank_sort\"] <= 10: operated_str = operated_str+(\"年度第\"+mapping[final_df.loc[i,\"rank_sort\"]]+\"综合实力\\n\")\r\n",
    "    if final_df.loc[i,\"max_corp\"] == 1: operated_str = operated_str+(\"国服最强\"+final_df.loc[i,\"favorite_corp\"]+\"\\n\")\r\n",
    "\r\n",
    "    if operated_str == '': \r\n",
    "        final_df.loc[i,\"achievements\"] = \"火星打工人\"\r\n",
    "    else:\r\n",
    "        final_df.loc[i,\"achievements\"] = operated_str\r\n",
    "final_df.to_csv(\"measure_output.csv\")\r\n",
    "# final_df.head()"
   ],
   "outputs": [],
   "metadata": {}
  },
  {
   "cell_type": "code",
   "execution_count": null,
   "source": [
    "final_df = final_df.loc[:,[\"user_id\", \"create_no\", \"create_time_text\",  \"first_time\", \"first_corp\", \"first_game_text\", \"played_day\", \"total_games\", \"total_game_text\", \"favorite_corp\", \"fa_corp_times\", \"fa_corp_rank\", \"most_freq_play_time\", \"favorite_time_text\", \"avg_rank\", \"avg_rank_text\", \"avg_gens\", \"avg_gen_text\", \"highest_corp\", \"highest_score\", \"highest_gens\", \"highest_sort\",\"most_date\", \"most_date_times\", \"games_in_one_day_text\", \"achievements\"]]"
   ],
   "outputs": [],
   "metadata": {}
  },
  {
   "cell_type": "code",
   "execution_count": null,
   "source": [
    "json_df = final_df.set_index(\"user_id\", drop=True)\r\n",
    "json_df.head()\r\n",
    "json_df.to_csv(\"summary.csv\")\r\n",
    "result = json_df.to_json(open(\"json_data7.json\",\"w\",encoding=\"utf-8\"), orient=\"index\", force_ascii=False)"
   ],
   "outputs": [],
   "metadata": {}
  }
 ],
 "metadata": {
  "orig_nbformat": 4,
  "language_info": {
   "name": "python",
   "version": "3.9.1",
   "mimetype": "text/x-python",
   "codemirror_mode": {
    "name": "ipython",
    "version": 3
   },
   "pygments_lexer": "ipython3",
   "nbconvert_exporter": "python",
   "file_extension": ".py"
  },
  "kernelspec": {
   "name": "python3",
   "display_name": "Python 3.9.1 64-bit ('base': conda)"
  },
  "interpreter": {
   "hash": "0a799971df52ca6fd5baef64aa1b067bb920861fff589eb134f1303043de7988"
  }
 },
 "nbformat": 4,
 "nbformat_minor": 2
}